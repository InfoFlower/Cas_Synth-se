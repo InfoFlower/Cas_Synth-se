{
 "cells": [
  {
   "cell_type": "code",
   "execution_count": 4,
   "metadata": {},
   "outputs": [],
   "source": [
    "import pandas as pd\n",
    "ticket=pd.read_csv(r'..\\Données\\Ticket_20240801.csv',sep='|')\n",
    "article=pd.read_csv(r'..\\Données\\Article_20240801.csv',encoding='Latin1',sep=';')"
   ]
  },
  {
   "cell_type": "code",
   "execution_count": 9,
   "metadata": {},
   "outputs": [
    {
     "data": {
      "text/plain": [
       "<module 'createur_script' from 'c:\\\\Users\\\\lenovo\\\\Desktop\\\\Cours\\\\Cas_Synth-se\\\\DEV\\\\SCRIPT_SQL\\\\createur_script.py'>"
      ]
     },
     "execution_count": 9,
     "metadata": {},
     "output_type": "execute_result"
    }
   ],
   "source": [
    "import createur_script as cs\n",
    "import importlib\n",
    "importlib.reload(cs)"
   ]
  },
  {
   "cell_type": "code",
   "execution_count": 11,
   "metadata": {},
   "outputs": [
    {
     "data": {
      "text/plain": [
       "'CREATE TABLE ARTICLE_exp (\\n     COD_MRQ VARCHAR(3),\\n     LIB_MRQ VARCHAR(26),\\n     COD_ART FLOAT,\\n     LIB_PRD VARCHAR(40),\\n     LIB_COL VARCHAR(21),\\n     LIB_TAI VARCHAR(9),\\n     FAM VARCHAR(25),\\n     SS_FAM VARCHAR(30),\\n     PRX_VEN FLOAT,\\n     LIB_GEN VARCHAR(6),\\n     CIB_TRN_AGE VARCHAR(11),\\n     COD_CAT VARCHAR(3),\\n     LIB_CAT VARCHAR(16),\\n);'"
      ]
     },
     "execution_count": 11,
     "metadata": {},
     "output_type": "execute_result"
    }
   ],
   "source": [
    "cs.crea_script(article,'ARTICLE_exp',write=True)"
   ]
  },
  {
   "cell_type": "code",
   "execution_count": null,
   "metadata": {},
   "outputs": [],
   "source": []
  },
  {
   "cell_type": "code",
   "execution_count": 96,
   "metadata": {},
   "outputs": [
    {
     "data": {
      "text/plain": [
       "'CREATE TABLE ticket (\\n     COD_ENS VARCHAR(3),\\n     LIB_ENS VARCHAR(6),\\n     LIB_MAG VARCHAR(25),\\n     COD_ART FLOAT,\\n     DAT_HEU_TIC VARCHAR(19),\\n     NUM_TIC FLOAT,\\n     NUM_TIC_LIG FLOAT,\\n     COD_CAI FLOAT,\\n     COD_VEN VARCHAR(6),\\n     QTE FLOAT,\\n     MNT_BRU FLOAT,\\n     MNT_TTC FLOAT,\\n     COD_DEV VARCHAR(3),\\n     TX_TVA FLOAT,\\n     REM_LIN FLOAT,\\n     REM_TIC FLOAT,\\n     TX_DEV FLOAT,\\n     COD_PAY VARCHAR(2),\\n     LIB_PAY VARCHAR(8),\\n     ADR1 VARCHAR(43),\\n     ADR2 VARCHAR(33),\\n     ADR3 VARCHAR(52),\\n     VIL_MAG VARCHAR(22),\\n     COD_POS FLOAT,\\n     DEP_MAG VARCHAR(20),\\n     REG_MAG VARCHAR(26),\\n     TEL VARCHAR(17),\\n     EMAIL VARCHAR(31),\\n     LNG FLOAT,\\n     LAT FLOAT,\\n     DAT_OUV VARCHAR(10),\\n     DAT_FRM FLOAT,\\n     SCHEDULE VARCHAR(174),\\nCONSTRAINT pk_ticket PRIMARY KEY (,));'"
      ]
     },
     "execution_count": 96,
     "metadata": {},
     "output_type": "execute_result"
    }
   ],
   "source": [
    "crea_script(all_stats(ticket),'ticket',[''],True)"
   ]
  },
  {
   "cell_type": "code",
   "execution_count": 89,
   "metadata": {},
   "outputs": [
    {
     "data": {
      "text/plain": [
       "{'COD_ENS': ['VARCHAR', 3],\n",
       " 'LIB_ENS': ['VARCHAR', 6],\n",
       " 'LIB_MAG': ['VARCHAR', 25],\n",
       " 'COD_ART': ['FLOAT'],\n",
       " 'DAT_HEU_TIC': ['VARCHAR', 19],\n",
       " 'NUM_TIC': ['FLOAT'],\n",
       " 'NUM_TIC_LIG': ['FLOAT'],\n",
       " 'COD_CAI': ['FLOAT'],\n",
       " 'COD_VEN': ['VARCHAR', 6],\n",
       " 'QTE': ['FLOAT'],\n",
       " 'MNT_BRU': ['FLOAT'],\n",
       " 'MNT_TTC': ['FLOAT'],\n",
       " 'COD_DEV': ['VARCHAR', 3],\n",
       " 'TX_TVA': ['FLOAT'],\n",
       " 'REM_LIN': ['FLOAT'],\n",
       " 'REM_TIC': ['FLOAT'],\n",
       " 'TX_DEV': ['FLOAT'],\n",
       " 'COD_PAY': ['VARCHAR', 2],\n",
       " 'LIB_PAY': ['VARCHAR', 8],\n",
       " 'ADR1': ['VARCHAR', 43],\n",
       " 'ADR2': ['VARCHAR', 33],\n",
       " 'ADR3': ['VARCHAR', 52],\n",
       " 'VIL_MAG': ['VARCHAR', 22],\n",
       " 'COD_POS': ['FLOAT'],\n",
       " 'DEP_MAG': ['VARCHAR', 20],\n",
       " 'REG_MAG': ['VARCHAR', 26],\n",
       " 'TEL': ['VARCHAR', 17],\n",
       " 'EMAIL': ['VARCHAR', 31],\n",
       " 'LNG': ['FLOAT'],\n",
       " 'LAT': ['FLOAT'],\n",
       " 'DAT_OUV': ['VARCHAR', 10],\n",
       " 'DAT_FRM': ['FLOAT'],\n",
       " 'SCHEDULE': ['VARCHAR', 174]}"
      ]
     },
     "execution_count": 89,
     "metadata": {},
     "output_type": "execute_result"
    }
   ],
   "source": [
    "all_stats(ticket)"
   ]
  }
 ],
 "metadata": {
  "kernelspec": {
   "display_name": "Python 3",
   "language": "python",
   "name": "python3"
  },
  "language_info": {
   "codemirror_mode": {
    "name": "ipython",
    "version": 3
   },
   "file_extension": ".py",
   "mimetype": "text/x-python",
   "name": "python",
   "nbconvert_exporter": "python",
   "pygments_lexer": "ipython3",
   "version": "3.11.9"
  }
 },
 "nbformat": 4,
 "nbformat_minor": 2
}
