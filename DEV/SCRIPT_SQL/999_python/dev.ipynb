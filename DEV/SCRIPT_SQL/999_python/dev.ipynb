{
 "cells": [
  {
   "cell_type": "code",
   "execution_count": 7,
   "metadata": {},
   "outputs": [],
   "source": [
    "import pandas as pd\n",
    "ticket=pd.read_csv(r'..\\Données\\Ticket_20240801.csv',sep='|')\n",
    "article=pd.read_csv(r'..\\Données\\Article_20240801.csv',encoding='Latin1',sep=';')"
   ]
  },
  {
   "cell_type": "code",
   "execution_count": 14,
   "metadata": {},
   "outputs": [
    {
     "data": {
      "text/plain": [
       "'DROP TABLE TICKET_exp;\\nCREATE TABLE TICKET_exp (\\n     COD_ENS VARCHAR(12),\\n     LIB_ENS VARCHAR(24),\\n     LIB_MAG VARCHAR(100),\\n     COD_ART FLOAT,\\n     DAT_HEU_TIC VARCHAR(76),\\n     NUM_TIC FLOAT,\\n     NUM_TIC_LIG FLOAT,\\n     COD_CAI FLOAT,\\n     COD_VEN VARCHAR(24),\\n     QTE FLOAT,\\n     MNT_BRU FLOAT,\\n     MNT_TTC FLOAT,\\n     COD_DEV VARCHAR(12),\\n     TX_TVA FLOAT,\\n     REM_LIN FLOAT,\\n     REM_TIC FLOAT,\\n     TX_DEV FLOAT,\\n     COD_PAY VARCHAR(8),\\n     LIB_PAY VARCHAR(32),\\n     ADR1 VARCHAR(172),\\n     ADR2 VARCHAR(132),\\n     ADR3 VARCHAR(208),\\n     VIL_MAG VARCHAR(88),\\n     COD_POS FLOAT,\\n     DEP_MAG VARCHAR(80),\\n     REG_MAG VARCHAR(104),\\n     TEL VARCHAR(68),\\n     EMAIL VARCHAR(124),\\n     LNG FLOAT,\\n     LAT FLOAT,\\n     DAT_OUV VARCHAR(40),\\n     DAT_FRM FLOAT,\\n     SCHEDULE VARCHAR(696)\\n);'"
      ]
     },
     "execution_count": 14,
     "metadata": {},
     "output_type": "execute_result"
    }
   ],
   "source": [
    "import createur_script as cs\n",
    "import importlib\n",
    "importlib.reload(cs)\n",
    "cs.crea_script(article,'ARTICLE_exp',write=True)\n",
    "cs.crea_script(ticket,'TICKET_exp',write=True)"
   ]
  },
  {
   "cell_type": "code",
   "execution_count": null,
   "metadata": {},
   "outputs": [],
   "source": []
  },
  {
   "cell_type": "code",
   "execution_count": 96,
   "metadata": {},
   "outputs": [
    {
     "data": {
      "text/plain": [
       "'CREATE TABLE ticket (\\n     COD_ENS VARCHAR(3),\\n     LIB_ENS VARCHAR(6),\\n     LIB_MAG VARCHAR(25),\\n     COD_ART FLOAT,\\n     DAT_HEU_TIC VARCHAR(19),\\n     NUM_TIC FLOAT,\\n     NUM_TIC_LIG FLOAT,\\n     COD_CAI FLOAT,\\n     COD_VEN VARCHAR(6),\\n     QTE FLOAT,\\n     MNT_BRU FLOAT,\\n     MNT_TTC FLOAT,\\n     COD_DEV VARCHAR(3),\\n     TX_TVA FLOAT,\\n     REM_LIN FLOAT,\\n     REM_TIC FLOAT,\\n     TX_DEV FLOAT,\\n     COD_PAY VARCHAR(2),\\n     LIB_PAY VARCHAR(8),\\n     ADR1 VARCHAR(43),\\n     ADR2 VARCHAR(33),\\n     ADR3 VARCHAR(52),\\n     VIL_MAG VARCHAR(22),\\n     COD_POS FLOAT,\\n     DEP_MAG VARCHAR(20),\\n     REG_MAG VARCHAR(26),\\n     TEL VARCHAR(17),\\n     EMAIL VARCHAR(31),\\n     LNG FLOAT,\\n     LAT FLOAT,\\n     DAT_OUV VARCHAR(10),\\n     DAT_FRM FLOAT,\\n     SCHEDULE VARCHAR(174),\\nCONSTRAINT pk_ticket PRIMARY KEY (,));'"
      ]
     },
     "execution_count": 96,
     "metadata": {},
     "output_type": "execute_result"
    }
   ],
   "source": [
    "crea_script(all_stats(ticket),'ticket',[''],True)"
   ]
  },
  {
   "cell_type": "code",
   "execution_count": 89,
   "metadata": {},
   "outputs": [
    {
     "data": {
      "text/plain": [
       "{'COD_ENS': ['VARCHAR', 3],\n",
       " 'LIB_ENS': ['VARCHAR', 6],\n",
       " 'LIB_MAG': ['VARCHAR', 25],\n",
       " 'COD_ART': ['FLOAT'],\n",
       " 'DAT_HEU_TIC': ['VARCHAR', 19],\n",
       " 'NUM_TIC': ['FLOAT'],\n",
       " 'NUM_TIC_LIG': ['FLOAT'],\n",
       " 'COD_CAI': ['FLOAT'],\n",
       " 'COD_VEN': ['VARCHAR', 6],\n",
       " 'QTE': ['FLOAT'],\n",
       " 'MNT_BRU': ['FLOAT'],\n",
       " 'MNT_TTC': ['FLOAT'],\n",
       " 'COD_DEV': ['VARCHAR', 3],\n",
       " 'TX_TVA': ['FLOAT'],\n",
       " 'REM_LIN': ['FLOAT'],\n",
       " 'REM_TIC': ['FLOAT'],\n",
       " 'TX_DEV': ['FLOAT'],\n",
       " 'COD_PAY': ['VARCHAR', 2],\n",
       " 'LIB_PAY': ['VARCHAR', 8],\n",
       " 'ADR1': ['VARCHAR', 43],\n",
       " 'ADR2': ['VARCHAR', 33],\n",
       " 'ADR3': ['VARCHAR', 52],\n",
       " 'VIL_MAG': ['VARCHAR', 22],\n",
       " 'COD_POS': ['FLOAT'],\n",
       " 'DEP_MAG': ['VARCHAR', 20],\n",
       " 'REG_MAG': ['VARCHAR', 26],\n",
       " 'TEL': ['VARCHAR', 17],\n",
       " 'EMAIL': ['VARCHAR', 31],\n",
       " 'LNG': ['FLOAT'],\n",
       " 'LAT': ['FLOAT'],\n",
       " 'DAT_OUV': ['VARCHAR', 10],\n",
       " 'DAT_FRM': ['FLOAT'],\n",
       " 'SCHEDULE': ['VARCHAR', 174]}"
      ]
     },
     "execution_count": 89,
     "metadata": {},
     "output_type": "execute_result"
    }
   ],
   "source": [
    "all_stats(ticket)"
   ]
  }
 ],
 "metadata": {
  "kernelspec": {
   "display_name": "Python 3",
   "language": "python",
   "name": "python3"
  },
  "language_info": {
   "codemirror_mode": {
    "name": "ipython",
    "version": 3
   },
   "file_extension": ".py",
   "mimetype": "text/x-python",
   "name": "python",
   "nbconvert_exporter": "python",
   "pygments_lexer": "ipython3",
   "version": "3.11.9"
  }
 },
 "nbformat": 4,
 "nbformat_minor": 2
}
